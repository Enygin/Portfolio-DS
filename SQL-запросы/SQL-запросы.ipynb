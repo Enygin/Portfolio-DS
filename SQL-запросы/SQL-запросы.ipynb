{
 "cells": [
  {
   "cell_type": "markdown",
   "id": "cadce16c",
   "metadata": {},
   "source": [
    "# SQL-запросы (PostgreSQL)"
   ]
  },
  {
   "cell_type": "markdown",
   "id": "90a62cc1",
   "metadata": {},
   "source": [
    "> В этом проекте проводилась работа с базой данных, которая хранит информацию о венчурных фондах и инвестициях в компании-стартапы. Эта база данных основана на датасете [Startup Investments](https://www.kaggle.com/datasets/justinas/startup-investments), опубликованном на популярной платформе для соревнований по исследованию данных Kaggle.  \n",
    "\n",
    "**В данной работе реализовано двадцать три SQL-запроса различной сложности.**"
   ]
  },
  {
   "cell_type": "markdown",
   "id": "e9a3747c",
   "metadata": {},
   "source": [
    "## ER-диаграмма"
   ]
  },
  {
   "cell_type": "markdown",
   "id": "3b2dabdc",
   "metadata": {},
   "source": [
    "![ER-диаграмма](https://code.s3.yandex.net/SQL%20for%20data%20and%20analytics/ER/basic_sql_project_ERD.png)"
   ]
  },
  {
   "cell_type": "markdown",
   "id": "4e8b0233",
   "metadata": {},
   "source": [
    "## Описание таблиц в базе данных"
   ]
  },
  {
   "cell_type": "markdown",
   "id": "9b62b7ca",
   "metadata": {},
   "source": [
    "### `acquisition`\n",
    "Содержит информацию о покупках одних компаний другими.\n",
    "* первичный ключ `id` — идентификатор или уникальный номер покупки;\n",
    "* внешний ключ `acquiring_company_id` — ссылается на таблицу `company` — идентификатор компании-покупателя, то есть той, что покупает другую компанию;\n",
    "* внешний ключ `acquired_company_id` — ссылается на таблицу `company` — идентификатор компании, которую покупают;\n",
    "* `term_code` — способ оплаты сделки:\n",
    "  * `cash` — наличными;\n",
    "  * `stock` — акциями компании;\n",
    "  * `cash_and_stock` — смешанный тип оплаты: наличные и акции.\n",
    "* `price_amount` — сумма покупки в долларах;\n",
    "* `acquired_at` — дата совершения сделки;\n",
    "* `created_at` — дата и время создания записи в таблице;\n",
    "* `updated_at` — дата и время обновления записи в таблице.\n",
    "### `company`\n",
    "Содержит информацию о компаниях-стартапах.\n",
    "* первичный ключ `id` — идентификатор, или уникальный номер компании;\n",
    "* `name` — название компании;\n",
    "* `category_code` — категория деятельности компании, например:\n",
    "  * `news` — специализируется на работе с новостями;\n",
    "  * `social` — специализируется на социальной работе.\n",
    "* `status` — статус компании:\n",
    "  * `acquired` — приобретена;\n",
    "  * `operating` — действует;\n",
    "  * `ipo` — вышла на IPO;\n",
    "  * `closed` — перестала существовать.\n",
    "* `founded_at` — дата основания компании;\n",
    "* `closed_at` — дата закрытия компании, которую указывают в том случае, если компании больше не существует;\n",
    "* `domain` — домен сайта компании;\n",
    "* `network_username` — профиль фонда в корпоративной сети биржи;\n",
    "* `country_code` — код страны, например, *USA* для США, *GBR* для Великобритании;\n",
    "* `investment_rounds` — число раундов, в которых компания участвовала как инвестор;\n",
    "* `funding_rounds` — число раундов, в которых компания привлекала инвестиции;\n",
    "* `funding_total` — сумма привлечённых инвестиций в долларах;\n",
    "* `milestones` — количество важных этапов в истории компании;\n",
    "* `created_at` — дата и время создания записи в таблице;\n",
    "* `updated_at` — дата и время обновления записи в таблице.\n",
    "### `education`\n",
    "Хранит информацию об уровне образования сотрудников компаний.\n",
    "* первичный ключ `id` — уникальный номер записи с информацией об образовании;\n",
    "* внешний ключ person_`id` — ссылается на таблицу `people` — идентификатор человека, информация о котором представлена в записи;\n",
    "* `degree_type` — учебная степень, например:\n",
    "  * `BA` — *Bachelor of Arts* — бакалавр гуманитарных наук;\n",
    "  * `MS` — *Master of Science* — магистр естественных наук.\n",
    "* `instituition` — учебное заведение, название университета;\n",
    "* `graduated_at` — дата завершения обучения, выпуска;\n",
    "* `created_at` — дата и время создания записи в таблице;\n",
    "* `updated_at` — дата и время обновления записи в таблице.\n",
    "### `fund`\n",
    "Хранит информацию о венчурных фондах. \n",
    "* первичный ключ `id` — уникальный номер венчурного фонда;\n",
    "* `name` — название венчурного фонда;\n",
    "* `founded_at` — дата основания фонда;\n",
    "* `domain` — домен сайта фонда;\n",
    "* `network_username` — профиль фонда в корпоративной сети биржи;\n",
    "* `country_code` — код страны фонда;\n",
    "* `investment_rounds` — число инвестиционных раундов, в которых фонд принимал участие;\n",
    "* `invested_companies` — число компаний, в которые инвестировал фонд;\n",
    "* `milestones` — количество важных этапов в истории фонда;\n",
    "* `created_at` — дата и время создания записи в таблице;\n",
    "* `updated_at` — дата и время обновления записи в таблице.\n",
    "### `funding_round`\n",
    "Содержит информацию о раундах инвестиций. \n",
    "* первичный ключ `id` — уникальный номер инвестиционного раунда;\n",
    "* внешний ключ `company_id` — ссылается на таблицу `company` — уникальный номер компании, участвовавшей в инвестиционном раунде;\n",
    "* `funded_at` — дата проведения раунда;\n",
    "* `funding_round_type` — тип инвестиционного раунда, например:\n",
    "  * `venture` — венчурный раунд;\n",
    "  * `angel` — ангельский раунд;\n",
    "  * `series_a` — раунд А.\n",
    "* `raised_amount` — сумма инвестиций, которую привлекла компания в этом раунде в долларах;\n",
    "* `pre_money_valuation` — предварительная, проведённая до инвестиций оценка стоимости компании в долларах;\n",
    "* `participants` — количество участников инвестиционного раунда;\n",
    "* `is_first_round` — является ли этот раунд первым для компании;\n",
    "* `is_last_round` — является ли этот раунд последним для компании;\n",
    "* `created_at` — дата и время создания записи в таблице;\n",
    "* `updated_at` — дата и время обновления записи в таблице.\n",
    "### `investment`\n",
    "Содержит информацию об инвестициях венчурных фондов в компании-стартапы.\n",
    "* первичный ключ `id` — уникальный номер инвестиции;\n",
    "* внешний ключ `funding_round_id` — ссылается на таблицу `funding_round` — уникальный номер раунда инвестиции;\n",
    "* внешний ключ `company_id` — ссылается на таблицу `company` — уникальный номер компании-стартапа, в которую инвестируют;\n",
    "* внешний ключ `fund_id` — ссылается на таблицу `fund` — уникальный номер фонда, инвестирующего в компанию-стартап;\n",
    "* `created_at` — дата и время создания записи в таблице;\n",
    "* `updated_at` — дата и время обновления записи в таблице.\n",
    "### `people`\n",
    "Содержит информацию о сотрудниках компаний-стартапов.\n",
    "* первичный ключ `id` — уникальный номер сотрудника;\n",
    "* `first_name` — имя сотрудника;\n",
    "* `last_name` — фамилия сотрудника;\n",
    "* внешний ключ `company_id` — ссылается на таблицу `company` — уникальный номер компании-стартапа;\n",
    "* `network_username` — профиль фонда в корпоративной сети биржи;\n",
    "* `created_at` — дата и время создания записи в таблице;\n",
    "* `updated_at` — дата и время обновления записи в таблице."
   ]
  },
  {
   "cell_type": "markdown",
   "id": "9c33cf25",
   "metadata": {},
   "source": [
    "# Задания"
   ]
  },
  {
   "cell_type": "markdown",
   "id": "49f37d32",
   "metadata": {},
   "source": [
    "**Задача 1**  \n",
    "Отобразите все записи из таблицы `company` по компаниям, которые закрылись."
   ]
  },
  {
   "cell_type": "markdown",
   "id": "ecefab67",
   "metadata": {},
   "source": [
    "```sql\n",
    "SELECT *\n",
    "FROM company\n",
    "WHERE status = 'closed';\n",
    "```"
   ]
  },
  {
   "cell_type": "markdown",
   "id": "85f71f83",
   "metadata": {},
   "source": [
    "---"
   ]
  },
  {
   "cell_type": "markdown",
   "id": "d4f19742",
   "metadata": {},
   "source": [
    "**Задача 2**  \n",
    "Отобразите количество привлечённых средств для новостных компаний США. Используйте данные из таблицы `company`. Отсортируйте таблицу по убыванию значений в поле `funding_total`."
   ]
  },
  {
   "cell_type": "markdown",
   "id": "e6f7798b",
   "metadata": {},
   "source": [
    "```sql\n",
    "SELECT SUM(funding_total) AS funding_total\n",
    "FROM company\n",
    "WHERE category_code = 'news'\n",
    "  AND country_code = 'USA'\n",
    "GROUP BY name\n",
    "ORDER BY funding_total DESC;\n",
    "```"
   ]
  },
  {
   "cell_type": "markdown",
   "id": "e0ea0aa0",
   "metadata": {},
   "source": [
    "---"
   ]
  },
  {
   "cell_type": "markdown",
   "id": "c2cff255",
   "metadata": {},
   "source": [
    "**Задача 3**  \n",
    "Найдите общую сумму сделок по покупке одних компаний другими в долларах. Отберите сделки, которые осуществлялись только за наличные с 2011 по 2013 год включительно."
   ]
  },
  {
   "cell_type": "markdown",
   "id": "f425d7e2",
   "metadata": {},
   "source": [
    "```sql\n",
    "SELECT SUM(price_amount)\n",
    "FROM acquisition\n",
    "WHERE term_code = 'cash'\n",
    "  AND EXTRACT(YEAR\n",
    "              FROM CAST(acquired_at AS date)) BETWEEN 2011 AND 2013;\n",
    "```"
   ]
  },
  {
   "cell_type": "markdown",
   "id": "712180c0",
   "metadata": {},
   "source": [
    "---"
   ]
  },
  {
   "cell_type": "markdown",
   "id": "f8784aac",
   "metadata": {},
   "source": [
    "**Задача 4**    \n",
    "Отобразите имя, фамилию и названия аккаунтов людей в поле `network_username`, у которых названия аккаунтов начинаются на *'Silver'*."
   ]
  },
  {
   "cell_type": "markdown",
   "id": "9ff005c3",
   "metadata": {},
   "source": [
    "```sql\n",
    "SELECT first_name,\n",
    "       last_name,\n",
    "       twitter_username\n",
    "FROM people\n",
    "WHERE twitter_username LIKE 'Silver%';\n",
    "```"
   ]
  },
  {
   "cell_type": "markdown",
   "id": "58bb390a",
   "metadata": {},
   "source": [
    "**Задача 5**  \n",
    "Выведите на экран всю информацию о людях, у которых названия аккаунтов в поле `network_username` содержат подстроку *'money'*, а фамилия начинается на *'K'*."
   ]
  },
  {
   "cell_type": "markdown",
   "id": "96b430c4",
   "metadata": {},
   "source": [
    "```sql\n",
    "SELECT *\n",
    "FROM people\n",
    "WHERE last_name LIKE 'K%'\n",
    "  AND twitter_username LIKE '%money%';\n",
    "```"
   ]
  },
  {
   "cell_type": "markdown",
   "id": "d40189ee",
   "metadata": {},
   "source": [
    "---"
   ]
  },
  {
   "cell_type": "markdown",
   "id": "a0fda820",
   "metadata": {},
   "source": [
    "**Задача 6**  \n",
    "Для каждой страны отобразите общую сумму привлечённых инвестиций, которые получили компании, зарегистрированные в этой стране. Страну, в которой зарегистрирована компания, можно определить по коду страны. Отсортируйте данные по убыванию суммы."
   ]
  },
  {
   "cell_type": "markdown",
   "id": "9323487c",
   "metadata": {},
   "source": [
    "```sql\n",
    "SELECT country_code,\n",
    "       SUM(funding_total) AS funding_total\n",
    "FROM company\n",
    "GROUP BY country_code\n",
    "ORDER BY funding_total DESC;\n",
    "```"
   ]
  },
  {
   "cell_type": "markdown",
   "id": "74b32a26",
   "metadata": {},
   "source": [
    "---"
   ]
  },
  {
   "cell_type": "markdown",
   "id": "dd6db50b",
   "metadata": {},
   "source": [
    "**Задача 7**  \n",
    "Составьте таблицу, в которую войдёт дата проведения раунда, а также минимальное и максимальное значения суммы инвестиций, привлечённых в эту дату.  \n",
    "Оставьте в итоговой таблице только те записи, в которых минимальное значение суммы инвестиций не равно нулю и не равно максимальному значению."
   ]
  },
  {
   "cell_type": "markdown",
   "id": "c0b9f961",
   "metadata": {},
   "source": [
    "```sql\n",
    "SELECT funded_at,\n",
    "       MIN(raised_amount),\n",
    "       MAX(raised_amount)\n",
    "FROM funding_round\n",
    "GROUP BY funded_at\n",
    "HAVING MIN(raised_amount) != 0\n",
    "AND MIN(raised_amount) != MAX(raised_amount);\n",
    "```"
   ]
  },
  {
   "cell_type": "markdown",
   "id": "987d8986",
   "metadata": {},
   "source": [
    "---"
   ]
  },
  {
   "cell_type": "markdown",
   "id": "9cc34bef",
   "metadata": {},
   "source": [
    "**Задача 8**  \n",
    "Создайте поле с категориями:\n",
    "* для фондов, которые инвестируют в 100 и более компаний, назначьте категорию `high_activity`.\n",
    "* для фондов, которые инвестируют в 20 и более компаний до 100, назначьте категорию `middle_activity`.\n",
    "* если количество инвестируемых компаний фонда не достигает 20, назначьте категорию `low_activity`.\n",
    "Отобразите все поля таблицы fund и новое поле с категориями."
   ]
  },
  {
   "cell_type": "markdown",
   "id": "b74d120a",
   "metadata": {},
   "source": [
    "```sql\n",
    "SELECT *,\n",
    "       CASE\n",
    "           WHEN invested_companies < 20 THEN 'low_activity'\n",
    "           WHEN invested_companies >= 20\n",
    "                AND invested_companies < 100 THEN 'middle_activity'\n",
    "           WHEN invested_companies >= 100 THEN 'high_activity'\n",
    "       END\n",
    "FROM fund;\n",
    "```"
   ]
  },
  {
   "cell_type": "markdown",
   "id": "f08e5533",
   "metadata": {},
   "source": [
    "---"
   ]
  },
  {
   "cell_type": "markdown",
   "id": "38564030",
   "metadata": {},
   "source": [
    "**Задача 9**  \n",
    "Для каждой из категорий, назначенных в предыдущем задании, посчитайте округлённое до ближайшего целого числа среднее количество инвестиционных раундов, в которых фонд принимал участие. Выведите на экран категории и среднее число инвестиционных раундов. Отсортируйте таблицу по возрастанию среднего."
   ]
  },
  {
   "cell_type": "markdown",
   "id": "7078ce71",
   "metadata": {},
   "source": [
    "```sql\n",
    "SELECT CASE\n",
    "           WHEN invested_companies>=100 THEN 'high_activity'\n",
    "           WHEN invested_companies>=20 THEN 'middle_activity'\n",
    "           ELSE 'low_activity'\n",
    "       END AS activity,\n",
    "       ROUND(AVG(investment_rounds))\n",
    "FROM fund\n",
    "GROUP BY activity\n",
    "ORDER BY AVG(investment_rounds);\n",
    "```"
   ]
  },
  {
   "cell_type": "markdown",
   "id": "e675a140",
   "metadata": {},
   "source": [
    "---"
   ]
  },
  {
   "cell_type": "markdown",
   "id": "73a25227",
   "metadata": {},
   "source": [
    "**Задача 10**  \n",
    "Проанализируйте, в каких странах находятся фонды, которые чаще всего инвестируют в стартапы. \n",
    "Для каждой страны посчитайте минимальное, максимальное и среднее число компаний, в которые инвестировали фонды этой страны, основанные с 2010 по 2012 год включительно. Исключите страны с фондами, у которых минимальное число компаний, получивших инвестиции, равно нулю. \n",
    "Выгрузите десять самых активных стран-инвесторов: отсортируйте таблицу по среднему количеству компаний от большего к меньшему. Затем добавьте сортировку по коду страны в лексикографическом порядке."
   ]
  },
  {
   "cell_type": "markdown",
   "id": "ae7a8c44",
   "metadata": {},
   "source": [
    "```sql\n",
    "SELECT country_code,\n",
    "       MIN(invested_companies),\n",
    "       MAX(invested_companies),\n",
    "       AVG(invested_companies)\n",
    "FROM fund\n",
    "WHERE EXTRACT(YEAR\n",
    "              FROM CAST(founded_at AS date)) BETWEEN 2010 AND 2012\n",
    "GROUP BY country_code\n",
    "HAVING MIN(invested_companies) != 0\n",
    "ORDER BY AVG(invested_companies) DESC\n",
    "LIMIT 10;\n",
    "```"
   ]
  },
  {
   "cell_type": "markdown",
   "id": "97192136",
   "metadata": {},
   "source": [
    "---"
   ]
  },
  {
   "cell_type": "markdown",
   "id": "4c8302b8",
   "metadata": {},
   "source": [
    "**Задача 11**  \n",
    "Отобразите имя и фамилию всех сотрудников стартапов. Добавьте поле с названием учебного заведения, которое окончил сотрудник, если эта информация известна."
   ]
  },
  {
   "cell_type": "markdown",
   "id": "0698234c",
   "metadata": {},
   "source": [
    "```sql\n",
    "SELECT p.first_name,\n",
    "       p.last_name,\n",
    "       e.instituition\n",
    "FROM people AS p\n",
    "LEFT OUTER JOIN education AS e ON p.id = e.person_id;\n",
    "```"
   ]
  },
  {
   "cell_type": "markdown",
   "id": "4fa74a83",
   "metadata": {},
   "source": [
    "---"
   ]
  },
  {
   "cell_type": "markdown",
   "id": "79be7233",
   "metadata": {},
   "source": [
    "**Задача 12**  \n",
    "Для каждой компании найдите количество учебных заведений, которые окончили её сотрудники. Выведите название компании и число уникальных названий учебных заведений. Составьте топ-5 компаний по количеству университетов."
   ]
  },
  {
   "cell_type": "markdown",
   "id": "36156e93",
   "metadata": {},
   "source": [
    "```sql\n",
    "SELECT c.name,\n",
    "       COUNT(DISTINCT e.instituition)\n",
    "FROM company AS c\n",
    "JOIN people AS p ON c.id=p.company_id\n",
    "JOIN education AS e ON p.id=e.person_id\n",
    "GROUP BY c.name\n",
    "ORDER BY COUNT(DISTINCT e.instituition) DESC\n",
    "LIMIT 5;\n",
    "```"
   ]
  },
  {
   "cell_type": "markdown",
   "id": "b62b2753",
   "metadata": {},
   "source": [
    "---"
   ]
  },
  {
   "cell_type": "markdown",
   "id": "1246652c",
   "metadata": {},
   "source": [
    "**Задача 13**  \n",
    "Составьте список с уникальными названиями закрытых компаний, для которых первый раунд финансирования оказался последним."
   ]
  },
  {
   "cell_type": "markdown",
   "id": "d70b8592",
   "metadata": {},
   "source": [
    "```sql\n",
    "SELECT DISTINCT c.name\n",
    "FROM company AS c\n",
    "LEFT OUTER JOIN funding_round AS fr ON c .id=fr.company_id\n",
    "WHERE c.status ='closed'\n",
    "  AND fr.is_first_round = 1\n",
    "  AND fr.is_last_round = 1\n",
    "GROUP BY c.name;\n",
    "```"
   ]
  },
  {
   "cell_type": "markdown",
   "id": "fdfd5fcb",
   "metadata": {},
   "source": [
    "---"
   ]
  },
  {
   "cell_type": "markdown",
   "id": "1499a687",
   "metadata": {},
   "source": [
    "**Задача 14**  \n",
    "Составьте список уникальных номеров сотрудников, которые работают в компаниях, отобранных в предыдущем задании."
   ]
  },
  {
   "cell_type": "markdown",
   "id": "3d33e113",
   "metadata": {},
   "source": [
    "```sql\n",
    "SELECT DISTINCT p.id\n",
    "FROM people AS p\n",
    "WHERE p.company_id IN\n",
    "    (SELECT c.id\n",
    "     FROM company AS c\n",
    "     JOIN funding_round AS fr ON c.id = fr.company_id\n",
    "     WHERE c.status ='closed'\n",
    "       AND fr.is_first_round = 1\n",
    "       AND fr.is_last_round = 1\n",
    "     GROUP BY c.id);\n",
    "```"
   ]
  },
  {
   "cell_type": "markdown",
   "id": "a966dc0d",
   "metadata": {},
   "source": [
    "---"
   ]
  },
  {
   "cell_type": "markdown",
   "id": "67af2f89",
   "metadata": {},
   "source": [
    "**Задача 15**  \n",
    "Составьте таблицу, куда войдут уникальные пары с номерами сотрудников из предыдущей задачи и учебным заведением, которое окончил сотрудник."
   ]
  },
  {
   "cell_type": "markdown",
   "id": "ad33ada4",
   "metadata": {},
   "source": [
    "```sql\n",
    "SELECT p.id,\n",
    "       e.instituition\n",
    "FROM people AS p\n",
    "LEFT JOIN education AS e ON p.id = e.person_id\n",
    "WHERE p.company_id IN\n",
    "    (SELECT c.id\n",
    "     FROM company AS c\n",
    "     JOIN funding_round AS fr ON c.id = fr.company_id\n",
    "     WHERE c.status ='closed'\n",
    "       AND fr.is_first_round = 1\n",
    "       AND fr.is_last_round = 1\n",
    "     GROUP BY c.id)\n",
    "GROUP BY p.id,\n",
    "         e.instituition\n",
    "HAVING instituition IS NOT NULL;\n",
    "```"
   ]
  },
  {
   "cell_type": "markdown",
   "id": "65ae21c7",
   "metadata": {},
   "source": [
    "---"
   ]
  },
  {
   "cell_type": "markdown",
   "id": "887cb91e",
   "metadata": {},
   "source": [
    "**Задача 16**  \n",
    "Посчитайте количество учебных заведений для каждого сотрудника из предыдущего задания. При подсчёте учитывайте, что некоторые сотрудники могли окончить одно и то же заведение дважды."
   ]
  },
  {
   "cell_type": "markdown",
   "id": "0d3f383c",
   "metadata": {},
   "source": [
    "```sql\n",
    "SELECT p.id,\n",
    "       COUNT(e.instituition)\n",
    "FROM people AS p\n",
    "LEFT JOIN education AS e ON p.id=e.person_id\n",
    "WHERE p.company_id IN\n",
    "    (SELECT c.id\n",
    "     FROM company AS c\n",
    "     JOIN funding_round AS fr ON c.id = fr.company_id\n",
    "     WHERE STATUS ='closed'\n",
    "       AND is_first_round = 1\n",
    "       AND is_last_round = 1\n",
    "     GROUP BY c.id)\n",
    "GROUP BY p.id\n",
    "HAVING COUNT(DISTINCT e.instituition) > 0;\n",
    "```"
   ]
  },
  {
   "cell_type": "markdown",
   "id": "8994cca7",
   "metadata": {},
   "source": [
    "---"
   ]
  },
  {
   "cell_type": "markdown",
   "id": "0b1bb544",
   "metadata": {},
   "source": [
    "**Задача 17**  \n",
    "Дополните предыдущий запрос и выведите среднее число учебных заведений (всех, не только уникальных), которые окончили сотрудники разных компаний. Нужно вывести только одну запись, группировка здесь не понадобится."
   ]
  },
  {
   "cell_type": "markdown",
   "id": "3955558e",
   "metadata": {},
   "source": [
    "```sql\n",
    "WITH ex1 AS\n",
    "  (SELECT p.id,\n",
    "          COUNT(e.instituition) AS count_e\n",
    "   FROM people AS p\n",
    "   LEFT JOIN education AS e ON p.id=e.person_id\n",
    "   WHERE p.company_id IN\n",
    "       (SELECT c.id\n",
    "        FROM company AS c\n",
    "        JOIN funding_round AS fr ON c.id = fr.company_id\n",
    "        WHERE c.status ='closed'\n",
    "          AND fr.is_first_round = 1\n",
    "          AND fr.is_last_round = 1\n",
    "        GROUP BY c.id)\n",
    "   GROUP BY p.id\n",
    "   HAVING COUNT(DISTINCT e.instituition) > 0)\n",
    "SELECT AVG(ex1.count_e)\n",
    "FROM ex1;\n",
    "```"
   ]
  },
  {
   "cell_type": "markdown",
   "id": "a9dfc88e",
   "metadata": {},
   "source": [
    "---"
   ]
  },
  {
   "cell_type": "markdown",
   "id": "1b592d81",
   "metadata": {},
   "source": [
    "**Задача 18**  \n",
    "Напишите похожий запрос: выведите среднее число учебных заведений (всех, не только уникальных), которые окончили сотрудники *Socialnet*."
   ]
  },
  {
   "cell_type": "markdown",
   "id": "234dda79",
   "metadata": {},
   "source": [
    "```sql\n",
    "WITH ex AS\n",
    "  (SELECT p.id,\n",
    "          COUNT(e.instituition)\n",
    "   FROM people AS p\n",
    "   LEFT JOIN education AS e ON p.id=e.person_id\n",
    "   WHERE p.company_id IN\n",
    "       (SELECT c.id\n",
    "        FROM company AS c\n",
    "        WHERE c.name = 'Facebook' )\n",
    "   GROUP BY p.id\n",
    "   HAVING COUNT(DISTINCT e.instituition) > 0)\n",
    "SELECT AVG(COUNT)\n",
    "FROM ex;\n",
    "```"
   ]
  },
  {
   "cell_type": "markdown",
   "id": "b64f2462",
   "metadata": {},
   "source": [
    "---"
   ]
  },
  {
   "cell_type": "markdown",
   "id": "e5e4ad15",
   "metadata": {},
   "source": [
    "**Задача 19**  \n",
    "Составьте таблицу из полей:\n",
    "* `name_of_fund` — название фонда;\n",
    "* `name_of_company` — название компании;\n",
    "* `amount` — сумма инвестиций, которую привлекла компания в раунде.\n",
    "В таблицу войдут данные о компаниях, в истории которых было больше шести важных этапов, а раунды финансирования проходили с 2012 по 2013 год включительно."
   ]
  },
  {
   "cell_type": "markdown",
   "id": "e648820b",
   "metadata": {},
   "source": [
    "```sql\n",
    "SELECT f.name AS name_of_fund,\n",
    "       c.name AS name_of_company,\n",
    "       fr.raised_amount AS amount\n",
    "FROM investment AS i\n",
    "LEFT JOIN company AS c ON c.id = i.company_id\n",
    "LEFT JOIN fund AS f ON i.fund_id=f.id\n",
    "INNER JOIN\n",
    "  (SELECT *\n",
    "   FROM funding_round\n",
    "   WHERE funded_at BETWEEN '2012-01-01' AND '2013-12-31') AS fr ON fr.id=i.funding_round_id\n",
    "WHERE c.milestones > 6;\n",
    "```"
   ]
  },
  {
   "cell_type": "markdown",
   "id": "c8f834a9",
   "metadata": {},
   "source": [
    "---"
   ]
  },
  {
   "cell_type": "markdown",
   "id": "a0047b74",
   "metadata": {},
   "source": [
    "**Задача 20**  \n",
    "Выгрузите таблицу, в которой будут такие поля:\n",
    "* название компании-покупателя;\n",
    "* сумма сделки;\n",
    "* название компании, которую купили;\n",
    "* сумма инвестиций, вложенных в купленную компанию;\n",
    "* доля, которая отображает, во сколько раз сумма покупки превысила сумму вложенных в компанию инвестиций, округлённая до ближайшего целого числа.\n",
    "\n",
    "Не учитывайте те сделки, в которых сумма покупки равна нулю. Если сумма инвестиций в компанию равна нулю, исключите такую компанию из таблицы. \n",
    "\n",
    "Отсортируйте таблицу по сумме сделки от большей к меньшей, а затем по названию купленной компании в лексикографическом порядке. Ограничьте таблицу первыми десятью записями."
   ]
  },
  {
   "cell_type": "markdown",
   "id": "15454bb3",
   "metadata": {},
   "source": [
    "```sql\n",
    "WITH acquiring AS\n",
    "  (SELECT c.name AS bought,\n",
    "          a.price_amount AS price,\n",
    "          a.id AS KEY\n",
    "   FROM acquisition AS a\n",
    "   LEFT JOIN company AS c ON a.acquiring_company_id=c.id\n",
    "   WHERE a.price_amount > 0),\n",
    "     acquired AS\n",
    "  (SELECT c.name AS acquisition,\n",
    "          c.funding_total AS investment,\n",
    "          a.id AS KEY\n",
    "   FROM acquisition AS a\n",
    "   LEFT JOIN company AS c ON a.acquired_company_id=c.id\n",
    "   WHERE c.funding_total > 0)\n",
    "SELECT acquiring.bought,\n",
    "       acquiring.price,\n",
    "       acquired.acquisition,\n",
    "       acquired.investment,\n",
    "       ROUND(acquiring.price / acquired.investment) AS uplift\n",
    "FROM acquiring\n",
    "JOIN acquired ON acquiring.KEY = acquired.KEY\n",
    "ORDER BY price DESC,\n",
    "         acquisition\n",
    "LIMIT 10;\n",
    "```"
   ]
  },
  {
   "cell_type": "markdown",
   "id": "b26b53bb",
   "metadata": {},
   "source": [
    "---"
   ]
  },
  {
   "cell_type": "markdown",
   "id": "c4bf6060",
   "metadata": {},
   "source": [
    "**Задача 21**  \n",
    "Выгрузите таблицу, в которую войдут названия компаний из категории `social`, получившие финансирование с 2010 по 2013 год включительно. Проверьте, что сумма инвестиций не равна нулю. Выведите также номер месяца, в котором проходил раунд финансирования."
   ]
  },
  {
   "cell_type": "markdown",
   "id": "60f0ac6c",
   "metadata": {},
   "source": [
    "```sql\n",
    "SELECT c.name,\n",
    "       EXTRACT(MONTH\n",
    "               FROM fr.funded_at) AS f_month\n",
    "FROM company AS c\n",
    "LEFT JOIN funding_round AS fr ON c.id = fr.company_id\n",
    "WHERE c.category_code = 'social'\n",
    "  AND fr.funded_at BETWEEN '2010-01-01' AND '2013-12-31'\n",
    "  AND fr.raised_amount != 0;\n",
    "```"
   ]
  },
  {
   "cell_type": "markdown",
   "id": "06ca4351",
   "metadata": {},
   "source": [
    "---"
   ]
  },
  {
   "cell_type": "markdown",
   "id": "f3e9e87a",
   "metadata": {},
   "source": [
    "**Задача 22**  \n",
    "Отберите данные по месяцам с 2010 по 2013 год, когда проходили инвестиционные раунды. Сгруппируйте данные по номеру месяца и получите таблицу, в которой будут поля:\n",
    "* номер месяца, в котором проходили раунды;\n",
    "* количество уникальных названий фондов из США, которые инвестировали в этом месяце;\n",
    "* количество компаний, купленных за этот месяц;\n",
    "* общая сумма сделок по покупкам в этом месяце."
   ]
  },
  {
   "cell_type": "markdown",
   "id": "b3df7e29",
   "metadata": {},
   "source": [
    "```sql\n",
    "WITH fundings AS\n",
    "  (SELECT EXTRACT(MONTH\n",
    "                  FROM CAST(fr.funded_at AS date)) AS f_month,\n",
    "          COUNT(DISTINCT f.id) AS us_funds\n",
    "   FROM fund AS f\n",
    "   LEFT JOIN investment AS i ON f.id=i.fund_id\n",
    "   LEFT JOIN funding_round AS fr ON i.funding_round_id=fr.id\n",
    "   WHERE f.country_code = 'USA'\n",
    "     AND EXTRACT(YEAR\n",
    "                 FROM CAST(fr.funded_at AS DATE)) BETWEEN 2010 AND 2013\n",
    "   GROUP BY f_month),\n",
    "     acquisitions AS\n",
    "  (SELECT EXTRACT(MONTH\n",
    "                  FROM CAST(acquired_at AS DATE)) AS f_month,\n",
    "          COUNT(acquired_company_id) AS bought_co,\n",
    "          SUM(price_amount) AS sum_total\n",
    "   FROM acquisition\n",
    "   WHERE EXTRACT(YEAR\n",
    "                 FROM CAST(acquired_at AS DATE)) BETWEEN 2010 AND 2013\n",
    "   GROUP BY f_month)\n",
    "SELECT fnd.f_month,\n",
    "       fnd.us_funds,\n",
    "       acq.bought_co,\n",
    "       acq.sum_total\n",
    "FROM fundings AS fnd\n",
    "LEFT JOIN acquisitions AS acq ON fnd.f_month = acq.f_month;\n",
    "```"
   ]
  },
  {
   "cell_type": "markdown",
   "id": "359ab35b",
   "metadata": {},
   "source": [
    "---"
   ]
  },
  {
   "cell_type": "markdown",
   "id": "46d03b9a",
   "metadata": {},
   "source": [
    "**Задача 23**  \n",
    "Составьте сводную таблицу и выведите среднюю сумму инвестиций для стран, в которых есть стартапы, зарегистрированные в 2011, 2012 и 2013 годах. Данные за каждый год должны быть в отдельном поле. Отсортируйте таблицу по среднему значению инвестиций за 2011 год от большего к меньшему."
   ]
  },
  {
   "cell_type": "markdown",
   "id": "8b6a20a2",
   "metadata": {},
   "source": [
    "```sql\n",
    "WITH y_2011 AS\n",
    "  (SELECT country_code AS country,\n",
    "          AVG(funding_total) AS year_2011\n",
    "   FROM company\n",
    "   WHERE EXTRACT(YEAR\n",
    "                 FROM CAST(founded_at AS date)) IN (2011,\n",
    "                                                    2012,\n",
    "                                                    2013)\n",
    "   GROUP BY country,\n",
    "            EXTRACT(YEAR\n",
    "                    FROM founded_at)\n",
    "   HAVING EXTRACT(YEAR\n",
    "                  FROM founded_at) = '2011'),\n",
    "     y_2012 AS\n",
    "  (SELECT country_code AS country,\n",
    "          AVG(funding_total) AS year_2012\n",
    "   FROM company\n",
    "   WHERE EXTRACT(YEAR\n",
    "                 FROM CAST(founded_at AS date)) IN (2011,\n",
    "                                                    2012,\n",
    "                                                    2013)\n",
    "   GROUP BY country,\n",
    "            EXTRACT(YEAR\n",
    "                    FROM founded_at)\n",
    "   HAVING EXTRACT(YEAR\n",
    "                  FROM founded_at) = '2012'),\n",
    "     y_2013 AS\n",
    "  (SELECT country_code AS country,\n",
    "          AVG(funding_total) AS year_2013\n",
    "   FROM company\n",
    "   WHERE EXTRACT(YEAR\n",
    "                 FROM CAST(founded_at AS date)) IN (2011,\n",
    "                                                    2012,\n",
    "                                                    2013)\n",
    "   GROUP BY country,\n",
    "            EXTRACT(YEAR\n",
    "                    FROM founded_at)\n",
    "   HAVING EXTRACT(YEAR\n",
    "                  FROM founded_at) = '2013')\n",
    "SELECT y_2011.country,\n",
    "       year_2011,\n",
    "       year_2012,\n",
    "       year_2013\n",
    "FROM y_2011\n",
    "JOIN y_2012 ON y_2011.country = y_2012.country\n",
    "JOIN y_2013 ON y_2012.country = y_2013.country\n",
    "ORDER BY year_2011 DESC;\n",
    "```"
   ]
  },
  {
   "cell_type": "markdown",
   "id": "97523956",
   "metadata": {},
   "source": [
    "---"
   ]
  },
  {
   "cell_type": "markdown",
   "id": "c0a5a434",
   "metadata": {},
   "source": [
    "**Еще один реализованный проект по SQL-запросам с применением оконных функций можно открыть по [ссылке](https://github.com/Enygin/Portfolio_DS/tree/main/SQL-запросы_2)**"
   ]
  }
 ],
 "metadata": {
  "kernelspec": {
   "display_name": "Python 3 (ipykernel)",
   "language": "python",
   "name": "python3"
  },
  "language_info": {
   "codemirror_mode": {
    "name": "ipython",
    "version": 3
   },
   "file_extension": ".py",
   "mimetype": "text/x-python",
   "name": "python",
   "nbconvert_exporter": "python",
   "pygments_lexer": "ipython3",
   "version": "3.11.5"
  },
  "toc": {
   "base_numbering": "1",
   "nav_menu": {},
   "number_sections": false,
   "sideBar": true,
   "skip_h1_title": true,
   "title_cell": "Table of Contents",
   "title_sidebar": "Contents",
   "toc_cell": false,
   "toc_position": {
    "height": "calc(100% - 180px)",
    "left": "10px",
    "top": "150px",
    "width": "165px"
   },
   "toc_section_display": true,
   "toc_window_display": false
  }
 },
 "nbformat": 4,
 "nbformat_minor": 5
}
