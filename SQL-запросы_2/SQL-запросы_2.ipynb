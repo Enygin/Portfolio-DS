{
 "cells": [
  {
   "cell_type": "markdown",
   "id": "715e469f",
   "metadata": {},
   "source": [
    "# SQL-запросы (PostgreSQL)"
   ]
  },
  {
   "cell_type": "markdown",
   "id": "493bc99b",
   "metadata": {},
   "source": [
    "> В этом проекте проводится работа с базой данных [StackOverflow](https://stackoverflow.com/) — сервиса вопросов и ответов о программировании. В исследуемой базе данных хранятся данные о постах за 2008 год, а также информация об оценках, которые эти посты получили.   \n",
    "В данной работе реализовано двадцать SQL-запросов с применением различных оконных функций."
   ]
  },
  {
   "cell_type": "markdown",
   "id": "99715a3c",
   "metadata": {},
   "source": [
    "## ER-диаграмма"
   ]
  },
  {
   "cell_type": "markdown",
   "id": "a6c8598e",
   "metadata": {},
   "source": [
    "![ER-диаграмма](https://pictures.s3.yandex.net/resources/Frame_353_1_1664969443.png)"
   ]
  },
  {
   "cell_type": "markdown",
   "id": "9bfc8d4c",
   "metadata": {},
   "source": [
    "## Описание таблиц в базе данных"
   ]
  },
  {
   "cell_type": "markdown",
   "id": "8ddcb798",
   "metadata": {},
   "source": [
    "### `stackoverflow.badges`\n",
    "Хранит информацию о значках, которые присуждаются за разные достижения. Например, пользователь, правильно ответивший на большое количество вопросов про *PostgreSQL*, может получить значок *postgresql*. \n",
    "* `id` — идентификатор значка, первичный ключ таблицы;\n",
    "* `name` — название значка;\n",
    "* `user_id` — идентификатор пользователя, которому присвоили значок, внешний ключ, отсылающий к таблице `users`;\n",
    "* `creation_date` — дата присвоения значка.\n",
    "\n",
    "### `stackoverflow.post_types`\n",
    "Содержит информацию о типе постов.\n",
    "* `id` — идентификатор поста, первичный ключ таблицы;\n",
    "* `type` — тип поста:\n",
    "  * `Question` — пост с вопросом;\n",
    "  * `Answer` — пост с ответом.\n",
    "  \n",
    "### `stackoverflow.posts`\n",
    "Содержит информацию о постах.\n",
    "* `id` — идентификатор поста, первичный ключ таблицы;\n",
    "* `title` — заголовок поста;\n",
    "* `creation_date` — дата создания поста;\n",
    "* `favorites_count` — число, которое показывает, сколько раз пост добавили в «Закладки»;\n",
    "* `last_activity_date` — дата последнего действия в посте, например комментария;\n",
    "* `last_edit_date` — дата последнего изменения поста;\n",
    "* `user_id` — идентификатор пользователя, который создал пост, внешний ключ к таблице `users`;\n",
    "* `parent_id` — если пост написали в ответ на другую публикацию, в это поле попадёт идентификатор поста с вопросом;\n",
    "* `post_type_id` — идентификатор типа поста, внешний ключ к таблице `post_types`;\n",
    "* `score` — количество очков, которое набрал пост;\n",
    "* `views_count` — количество просмотров.\n",
    "\n",
    "### `stackoverflow.users`\n",
    "Содержит информацию о пользователях.\n",
    "* `id` — идентификатор пользователя, первичный ключ таблицы;\n",
    "* `creation_date` — дата регистрации пользователя;\n",
    "* `display_name` — имя пользователя;\n",
    "* `last_access_date` — дата последнего входа;\n",
    "* `location` — местоположение;\n",
    "* `reputation` — очки репутации, которые получают за хорошие вопросы и полезные ответы;\n",
    "* `views` — число просмотров профиля пользователя.\n",
    "\n",
    "### `stackoverflow.vote_types`\n",
    "Содержит информацию о типах голосов. Голос — это метка, которую пользователи ставят посту.\n",
    "* `id` — идентификатор типа голоса, первичный ключ;\n",
    "* `name` — название метки:\n",
    "  * `UpMod` — такую отметку получают посты с вопросами или ответами, которые пользователи посчитали уместными и полезными;\n",
    "  * `DownMod` — такую отметку получают посты, которые показались пользователям наименее полезными;\n",
    "  * `Close` — такую метку ставят опытные пользователи сервиса, если заданный вопрос нужно доработать или он вообще не подходит для платформы;\n",
    "  * `Offensive` — такую метку могут поставить, если пользователь ответил на вопрос в грубой и оскорбительной манере, например, указав на неопытность автора поста;\n",
    "  * `Spam` — такую метку ставят в случае, если пост пользователя выглядит откровенной рекламой.\n",
    "  \n",
    "### `stackoverflow.votes`\n",
    "Содержит информацию о голосах за посты.\n",
    "* `id` — идентификатор голоса, первичный ключ;\n",
    "* `post_id` — идентификатор поста, внешний ключ к таблице `posts`;\n",
    "* `user_id` — идентификатор пользователя, который поставил посту голос, внешний ключ к таблице `users`;\n",
    "* `bounty_amount` — сумма вознаграждения, которое назначают, чтобы привлечь внимание к посту;\n",
    "* `vote_type_id` — идентификатор типа голоса, внешний ключ к таблице `vote_types`;\n",
    "* `creation_date` — дата назначения голоса."
   ]
  },
  {
   "cell_type": "markdown",
   "id": "49cbed63",
   "metadata": {},
   "source": [
    "# Задания"
   ]
  },
  {
   "cell_type": "markdown",
   "id": "b2b95dd1",
   "metadata": {},
   "source": [
    "**Задача 1**  \n",
    "Найдите количество вопросов, которые набрали больше 300 очков или как минимум 100 раз были добавлены в «Закладки»."
   ]
  },
  {
   "cell_type": "markdown",
   "id": "bf20d4a1",
   "metadata": {},
   "source": [
    "```sql\n",
    "SELECT COUNT(p.id)\n",
    "FROM stackoverflow.posts AS p\n",
    "JOIN stackoverflow.post_types AS pt ON p.post_type_id = pt.id\n",
    "WHERE pt.type = 'Question'\n",
    "  AND (score > 300\n",
    "       OR favorites_count >= 100);\n",
    "```"
   ]
  },
  {
   "cell_type": "markdown",
   "id": "5696831c",
   "metadata": {},
   "source": [
    "---"
   ]
  },
  {
   "cell_type": "markdown",
   "id": "8c719a4c",
   "metadata": {},
   "source": [
    "**Задача 2**  \n",
    "Сколько в среднем в день задавали вопросов с 1 по 18 ноября 2008 включительно? Результат округлите до целого числа."
   ]
  },
  {
   "cell_type": "markdown",
   "id": "9b08ce49",
   "metadata": {},
   "source": [
    "```sql\n",
    "SELECT ROUND(AVG(question_cnt))\n",
    "FROM\n",
    "  (SELECT creation_date::date AS question_date,\n",
    "          COUNT(p.id) AS question_cnt\n",
    "   FROM stackoverflow.posts AS p\n",
    "   JOIN stackoverflow.post_types AS pt ON p.post_type_id = pt.id\n",
    "   WHERE pt.type = 'Question'\n",
    "     AND creation_date::date BETWEEN '2008-11-01' AND '2008-11-18'\n",
    "   GROUP BY creation_date::date) AS Question;\n",
    "```"
   ]
  },
  {
   "cell_type": "markdown",
   "id": "f483c3d8",
   "metadata": {},
   "source": [
    "---"
   ]
  },
  {
   "cell_type": "markdown",
   "id": "47d54a74",
   "metadata": {},
   "source": [
    "**Задача 3**  \n",
    "Сколько пользователей получили значки сразу в день регистрации? Выведите количество уникальных пользователей."
   ]
  },
  {
   "cell_type": "markdown",
   "id": "778cf5a3",
   "metadata": {},
   "source": [
    "```sql\n",
    "SELECT COUNT(DISTINCT u.id) AS USER\n",
    "FROM stackoverflow.users AS u\n",
    "JOIN stackoverflow.badges AS b ON u.id = b.user_id\n",
    "WHERE u.creation_date::date = b.creation_date::date;\n",
    "```"
   ]
  },
  {
   "cell_type": "markdown",
   "id": "777db223",
   "metadata": {},
   "source": [
    "---"
   ]
  },
  {
   "cell_type": "markdown",
   "id": "30a355d8",
   "metadata": {},
   "source": [
    "**Задача 4**  \n",
    "Сколько уникальных постов пользователя с именем *Joel Coehoorn* получили хотя бы один голос?"
   ]
  },
  {
   "cell_type": "markdown",
   "id": "7c811f80",
   "metadata": {},
   "source": [
    "```sql\n",
    "WITH votes_cnts AS\n",
    "  (SELECT p.id AS id_post,\n",
    "          COUNT(v.id) AS votes_cnt\n",
    "   FROM stackoverflow.users AS u\n",
    "   JOIN stackoverflow.posts AS p ON p.user_id = u.id\n",
    "   JOIN stackoverflow.votes AS v ON v.post_id = p.id\n",
    "   WHERE display_name = 'Joel Coehoorn'\n",
    "   GROUP BY p.id)\n",
    "SELECT COUNT(id_post)\n",
    "FROM votes_cnts\n",
    "WHERE votes_cnt > 0;\n",
    "```"
   ]
  },
  {
   "cell_type": "markdown",
   "id": "680ac1da",
   "metadata": {},
   "source": [
    "---"
   ]
  },
  {
   "cell_type": "markdown",
   "id": "0f98b14d",
   "metadata": {},
   "source": [
    "**Задача 5**  \n",
    "Выгрузите все поля таблицы `vote_types`. Добавьте к таблице поле `rank`, в которое войдут номера записей в обратном порядке. Таблица должна быть отсортирована по полю `id`."
   ]
  },
  {
   "cell_type": "markdown",
   "id": "994d8b24",
   "metadata": {},
   "source": [
    "```sql\n",
    "SELECT *,\n",
    "       RANK() OVER (\n",
    "                    ORDER BY id DESC)\n",
    "FROM stackoverflow.vote_types\n",
    "ORDER BY id;\n",
    "```"
   ]
  },
  {
   "cell_type": "markdown",
   "id": "645bce67",
   "metadata": {},
   "source": [
    "---"
   ]
  },
  {
   "cell_type": "markdown",
   "id": "a56f59c1",
   "metadata": {},
   "source": [
    "**Задача 6**  \n",
    "Отберите 10 пользователей, которые поставили больше всего голосов типа `Close`. Отобразите таблицу из двух полей: идентификатором пользователя и количеством голосов. Отсортируйте данные сначала по убыванию количества голосов, потом по убыванию значения идентификатора пользователя."
   ]
  },
  {
   "cell_type": "markdown",
   "id": "3ec6af4f",
   "metadata": {},
   "source": [
    "```sql\n",
    "SELECT v.user_id AS user_votes,\n",
    "       COUNT (v.id) AS votes_cnt\n",
    "FROM stackoverflow.votes AS v\n",
    "JOIN stackoverflow.vote_types AS vt ON vt.id = v.vote_type_id\n",
    "WHERE name = 'Close'\n",
    "GROUP BY v.user_id\n",
    "ORDER BY votes_cnt DESC,\n",
    "         v.user_id DESC\n",
    "LIMIT 10;\n",
    "```"
   ]
  },
  {
   "cell_type": "markdown",
   "id": "dddd0f12",
   "metadata": {},
   "source": [
    "---"
   ]
  },
  {
   "cell_type": "markdown",
   "id": "04616129",
   "metadata": {},
   "source": [
    "**Задача 7**  \n",
    "Отберите 10 пользователей по количеству значков, полученных в период с 15 ноября по 15 декабря 2008 года включительно.  \n",
    "Отобразите несколько полей:\n",
    "* идентификатор пользователя;\n",
    "* число значков;\n",
    "* место в рейтинге — чем больше значков, тем выше рейтинг.\n",
    "\n",
    "Пользователям, которые набрали одинаковое количество значков, присвойте одно и то же место в рейтинге.\n",
    "\n",
    "Отсортируйте записи по количеству значков по убыванию, а затем по возрастанию значения идентификатора пользователя."
   ]
  },
  {
   "cell_type": "markdown",
   "id": "2c8a3c7d",
   "metadata": {},
   "source": [
    "```sql\n",
    "SELECT user_id,\n",
    "       COUNT (id) AS badges_cnt,\n",
    "             DENSE_RANK() OVER (\n",
    "                                ORDER BY COUNT (id) DESC)\n",
    "FROM stackoverflow.badges\n",
    "WHERE creation_date::date BETWEEN '2008-11-15' AND '2008-12-15'\n",
    "GROUP BY user_id\n",
    "ORDER BY badges_cnt DESC,\n",
    "         user_id\n",
    "LIMIT 10;\n",
    "```"
   ]
  },
  {
   "cell_type": "markdown",
   "id": "69a56cc6",
   "metadata": {},
   "source": [
    "---"
   ]
  },
  {
   "cell_type": "markdown",
   "id": "63a909e4",
   "metadata": {},
   "source": [
    "**Задача 8**  \n",
    "Сколько в среднем очков получает пост каждого пользователя?  \n",
    "Сформируйте таблицу из следующих полей:\n",
    "* заголовок поста;\n",
    "* идентификатор пользователя;\n",
    "* число очков поста;\n",
    "* среднее число очков пользователя за пост, округлённое до целого числа.\n",
    "\n",
    "Не учитывайте посты без заголовка, а также те, что набрали ноль очков."
   ]
  },
  {
   "cell_type": "markdown",
   "id": "a5dd2b98",
   "metadata": {},
   "source": [
    "```sql\n",
    "SELECT title,\n",
    "       user_id,\n",
    "       score,\n",
    "       ROUND(AVG(score) OVER (PARTITION BY user_id))\n",
    "FROM stackoverflow.posts\n",
    "WHERE title IS NOT NULL\n",
    "  AND score != 0;\n",
    "```"
   ]
  },
  {
   "cell_type": "markdown",
   "id": "5d15875c",
   "metadata": {},
   "source": [
    "---"
   ]
  },
  {
   "cell_type": "markdown",
   "id": "16e1841d",
   "metadata": {},
   "source": [
    "**Задача 9**  \n",
    "Отобразите заголовки постов, которые были написаны пользователями, получившими более 1000 значков. Посты без заголовков не должны попасть в список."
   ]
  },
  {
   "cell_type": "markdown",
   "id": "c91564e7",
   "metadata": {},
   "source": [
    "```sql\n",
    "SELECT title\n",
    "FROM stackoverflow.posts\n",
    "WHERE user_id IN\n",
    "    (SELECT user_id\n",
    "     FROM stackoverflow.badges\n",
    "     GROUP BY user_id\n",
    "     HAVING COUNT(id) > 1000)\n",
    "  AND title IS NOT NULL;\n",
    "```"
   ]
  },
  {
   "cell_type": "markdown",
   "id": "743d8ab6",
   "metadata": {},
   "source": [
    "---"
   ]
  },
  {
   "cell_type": "markdown",
   "id": "4163e47a",
   "metadata": {},
   "source": [
    "**Задача 10**  \n",
    "Напишите запрос, который выгрузит данные о пользователях из США (англ. *United States*). Разделите пользователей на три группы в зависимости от количества просмотров их профилей:\n",
    "* пользователям с числом просмотров больше либо равным 350 присвойте группу `1`;\n",
    "* пользователям с числом просмотров меньше 350, но больше либо равно 100 — группу `2`;\n",
    "* пользователям с числом просмотров меньше 100 — группу `3`.\n",
    "Отобразите в итоговой таблице идентификатор пользователя, количество просмотров профиля и группу. Пользователи с нулевым количеством просмотров не должны войти в итоговую таблицу."
   ]
  },
  {
   "cell_type": "markdown",
   "id": "56195e08",
   "metadata": {},
   "source": [
    "```sql\n",
    "SELECT id,\n",
    "       VIEWS,\n",
    "       CASE\n",
    "           WHEN VIEWS >= 350 THEN 1\n",
    "           WHEN VIEWS >= 100\n",
    "                AND VIEWS < 350 THEN 2\n",
    "           ELSE 3\n",
    "       END AS GROUP\n",
    "FROM stackoverflow.users\n",
    "WHERE LOCATION LIKE '%United States%'\n",
    "  AND VIEWS != 0\n",
    "ORDER BY VIEWS DESC;\n",
    "```"
   ]
  },
  {
   "cell_type": "markdown",
   "id": "f1af7f6b",
   "metadata": {},
   "source": [
    "---"
   ]
  },
  {
   "cell_type": "markdown",
   "id": "8f335c46",
   "metadata": {},
   "source": [
    "**Задача 11**  \n",
    "Дополните предыдущий запрос. Отобразите лидеров каждой группы — пользователей, которые набрали максимальное число просмотров в своей группе. Выведите поля с идентификатором пользователя, группой и количеством просмотров. Отсортируйте таблицу по убыванию просмотров, а затем по возрастанию значения идентификатора."
   ]
  },
  {
   "cell_type": "markdown",
   "id": "77d1fbe0",
   "metadata": {},
   "source": [
    "```sql\n",
    "WITH us_users AS\n",
    "  (SELECT id AS user_id,\n",
    "          VIEWS AS views_cnt,\n",
    "                   CASE\n",
    "                       WHEN VIEWS >= 350 THEN 1\n",
    "                       WHEN VIEWS >= 100\n",
    "                            AND VIEWS < 350 THEN 2\n",
    "                       ELSE 3\n",
    "                   END AS groups\n",
    "   FROM stackoverflow.users\n",
    "   WHERE LOCATION LIKE '%United States%'\n",
    "     AND VIEWS != 0)\n",
    "SELECT user_id,\n",
    "       groups,\n",
    "       views_cnt\n",
    "FROM\n",
    "  (SELECT user_id,\n",
    "          views_cnt,\n",
    "          groups,\n",
    "          MAX(views_cnt) OVER (PARTITION BY groups\n",
    "                               ORDER BY views_cnt DESC) AS max_views\n",
    "   FROM us_users) AS max_us\n",
    "WHERE views_cnt = max_views\n",
    "ORDER BY views_cnt DESC,\n",
    "         user_id;\n",
    "```"
   ]
  },
  {
   "cell_type": "markdown",
   "id": "94616c37",
   "metadata": {},
   "source": [
    "---"
   ]
  },
  {
   "cell_type": "markdown",
   "id": "df43d8de",
   "metadata": {},
   "source": [
    "**Задача 12**  \n",
    "Посчитайте ежедневный прирост новых пользователей в ноябре 2008 года. Сформируйте таблицу с полями:\n",
    "* номер дня;\n",
    "* число пользователей, зарегистрированных в этот день;\n",
    "* сумму пользователей с накоплением."
   ]
  },
  {
   "cell_type": "markdown",
   "id": "9a5e7ae0",
   "metadata": {},
   "source": [
    "```sql\n",
    "SELECT days,\n",
    "       users_cnt,\n",
    "       SUM(users_cnt) OVER (\n",
    "                            ORDER BY days)\n",
    "FROM\n",
    "  (SELECT EXTRACT (DAY\n",
    "                   FROM creation_date) AS days,\n",
    "                  COUNT(id) AS users_cnt\n",
    "   FROM stackoverflow.users\n",
    "   WHERE creation_date :: date BETWEEN '2008-11-01' AND '2008-11-30'\n",
    "   GROUP BY EXTRACT (DAY\n",
    "                     FROM creation_date)) AS user_november;\n",
    "```"
   ]
  },
  {
   "cell_type": "markdown",
   "id": "be5450a3",
   "metadata": {},
   "source": [
    "---"
   ]
  },
  {
   "cell_type": "markdown",
   "id": "64ff66ef",
   "metadata": {},
   "source": [
    "**Задача 13**  \n",
    "Для каждого пользователя, который написал хотя бы один пост, найдите интервал между регистрацией и временем создания первого поста. Отобразите:\n",
    "* идентификатор пользователя;\n",
    "* разницу во времени между регистрацией и первым постом."
   ]
  },
  {
   "cell_type": "markdown",
   "id": "3e77acea",
   "metadata": {},
   "source": [
    "```sql\n",
    "SELECT DISTINCT p.user_id,\n",
    "                MIN(p.creation_date) OVER (PARTITION BY p.user_id) - u.creation_date AS interval\n",
    "FROM stackoverflow.posts AS p\n",
    "JOIN stackoverflow.users AS u ON p.user_id = u.id;\n",
    "```"
   ]
  },
  {
   "cell_type": "markdown",
   "id": "3d826ee2",
   "metadata": {},
   "source": [
    "---"
   ]
  },
  {
   "cell_type": "markdown",
   "id": "02abbf8f",
   "metadata": {},
   "source": [
    "**Задача 14**  \n",
    "Выведите общую сумму просмотров постов за каждый месяц 2008 года. Если данных за какой-либо месяц в базе нет, такой месяц можно пропустить. Результат отсортируйте по убыванию общего количества просмотров."
   ]
  },
  {
   "cell_type": "markdown",
   "id": "b2c4dde2",
   "metadata": {},
   "source": [
    "```sql\n",
    "SELECT DATE_TRUNC('month', creation_date)::date AS month_posts,\n",
    "       SUM(views_count) AS views_count\n",
    "FROM stackoverflow.posts\n",
    "WHERE EXTRACT (YEAR\n",
    "               FROM creation_date) = 2008\n",
    "GROUP BY month_posts\n",
    "ORDER BY views_count DESC;\n",
    "```"
   ]
  },
  {
   "cell_type": "markdown",
   "id": "f384891e",
   "metadata": {},
   "source": [
    "---"
   ]
  },
  {
   "cell_type": "markdown",
   "id": "8088920c",
   "metadata": {},
   "source": [
    "**Задача 15**  \n",
    "Выведите имена самых активных пользователей, которые в первый месяц после регистрации (включая день регистрации) дали больше 100 ответов. Вопросы, которые задавали пользователи, не учитывайте. Для каждого имени пользователя выведите количество уникальных значений `user_id`. Отсортируйте результат по полю с именами в лексикографическом порядке."
   ]
  },
  {
   "cell_type": "markdown",
   "id": "b58f5924",
   "metadata": {},
   "source": [
    "```sql\n",
    "SELECT u.display_name,\n",
    "       COUNT(DISTINCT p.user_id)\n",
    "FROM stackoverflow.users u\n",
    "JOIN stackoverflow.posts p ON u.id = p.user_id\n",
    "JOIN stackoverflow.post_types pt ON p.post_type_id = pt.id\n",
    "WHERE p.creation_date::date BETWEEN u.creation_date::date AND u.creation_date::date + INTERVAL '1 month'\n",
    "  AND pt.type = 'Answer'\n",
    "GROUP BY u.display_name\n",
    "HAVING COUNT(DISTINCT p.id) > 100;\n",
    "```"
   ]
  },
  {
   "cell_type": "markdown",
   "id": "9e65108d",
   "metadata": {},
   "source": [
    "---"
   ]
  },
  {
   "cell_type": "markdown",
   "id": "967682fa",
   "metadata": {},
   "source": [
    "**Задача 16**  \n",
    "Выведите количество постов за 2008 год по месяцам. Отберите посты от пользователей, которые зарегистрировались в сентябре 2008 года и сделали хотя бы один пост в декабре того же года. Отсортируйте таблицу по значению месяца по убыванию."
   ]
  },
  {
   "cell_type": "markdown",
   "id": "8090a398",
   "metadata": {},
   "source": [
    "```sql\n",
    "SELECT DATE_TRUNC('month', p.creation_date)::date AS month_posts,\n",
    "       COUNT (DISTINCT id) AS user_count\n",
    "FROM stackoverflow.posts AS p\n",
    "WHERE user_id IN\n",
    "    (SELECT DISTINCT u.id\n",
    "     FROM stackoverflow.users AS u\n",
    "     JOIN stackoverflow.posts AS p ON p.user_id = u.id\n",
    "     WHERE u.creation_date :: date BETWEEN '2008-09-01' AND '2008-09-30'\n",
    "       AND p.creation_date :: date BETWEEN '2008-12-01' AND '2008-12-31' )\n",
    "  AND p.creation_date::date BETWEEN '2008-01-01' AND '2008-12-31'\n",
    "GROUP BY month_posts\n",
    "ORDER BY month_posts DESC;\n",
    "```"
   ]
  },
  {
   "cell_type": "markdown",
   "id": "d7d8586c",
   "metadata": {},
   "source": [
    "---"
   ]
  },
  {
   "cell_type": "markdown",
   "id": "defcf7f9",
   "metadata": {},
   "source": [
    "**Задача 17**  \n",
    "Используя данные о постах, выведите несколько полей:\n",
    "* идентификатор пользователя, который написал пост;\n",
    "* дата создания поста;\n",
    "* количество просмотров у текущего поста;\n",
    "* сумму просмотров постов автора с накоплением.\n",
    "Данные в таблице должны быть отсортированы по возрастанию идентификаторов пользователей, а данные об одном и том же пользователе — по возрастанию даты создания поста."
   ]
  },
  {
   "cell_type": "markdown",
   "id": "dccd63ef",
   "metadata": {},
   "source": [
    "```sql\n",
    "SELECT user_id,\n",
    "       creation_date,\n",
    "       views_count,\n",
    "       SUM(views_count) OVER (PARTITION BY user_id\n",
    "                              ORDER BY creation_date)\n",
    "FROM stackoverflow.posts\n",
    "ORDER BY user_id,\n",
    "         creation_date;\n",
    "```"
   ]
  },
  {
   "cell_type": "markdown",
   "id": "292760f8",
   "metadata": {},
   "source": [
    "---"
   ]
  },
  {
   "cell_type": "markdown",
   "id": "80560108",
   "metadata": {},
   "source": [
    "**Задача 18**  \n",
    "Сколько в среднем дней в период с 1 по 7 декабря 2008 года включительно пользователи взаимодействовали с платформой? Для каждого пользователя отберите дни, в которые он или она опубликовали хотя бы один пост. Нужно получить одно целое число — не забудьте округлить результат."
   ]
  },
  {
   "cell_type": "markdown",
   "id": "95bc15ab",
   "metadata": {},
   "source": [
    "```sql\n",
    "SELECT ROUND(AVG (active_days))\n",
    "FROM\n",
    "  (SELECT user_id,\n",
    "          COUNT(DISTINCT creation_date::date) AS active_days\n",
    "   FROM stackoverflow.posts\n",
    "   WHERE creation_date::date BETWEEN '2008-12-01' AND '2008-12-07'\n",
    "   GROUP BY user_id) AS cnt;\n",
    "```"
   ]
  },
  {
   "cell_type": "markdown",
   "id": "6526283d",
   "metadata": {},
   "source": [
    "---"
   ]
  },
  {
   "cell_type": "markdown",
   "id": "005c3b26",
   "metadata": {},
   "source": [
    "**Задача 19**  \n",
    "На сколько процентов менялось количество постов ежемесячно с 1 сентября по 31 декабря 2008 года? Отобразите таблицу со следующими полями:\n",
    "* номер месяца;\n",
    "* количество постов за месяц;\n",
    "* процент, который показывает, насколько изменилось количество постов в текущем месяце по сравнению с предыдущим.\n",
    "Если постов стало меньше, значение процента должно быть отрицательным, если больше — положительным. Округлите значение процента до двух знаков после запятой."
   ]
  },
  {
   "cell_type": "markdown",
   "id": "a4ea228a",
   "metadata": {},
   "source": [
    "```sql\n",
    "WITH posts_month AS\n",
    "  (SELECT EXTRACT (MONTH\n",
    "                   FROM creation_date) AS month_number,\n",
    "                  COUNT(id) AS posts_cnt\n",
    "   FROM stackoverflow.posts\n",
    "   WHERE creation_date::date BETWEEN '2008-09-01' AND '2008-12-31'\n",
    "   GROUP BY EXTRACT (MONTH\n",
    "                     FROM creation_date)\n",
    "   ORDER BY month_number)\n",
    "SELECT *,\n",
    "       ROUND((posts_cnt - LAG(posts_cnt) OVER ()) * 100 / LAG(posts_cnt) OVER ()::numeric, 2)\n",
    "FROM posts_month;\n",
    "```"
   ]
  },
  {
   "cell_type": "markdown",
   "id": "e20b828a",
   "metadata": {},
   "source": [
    "---"
   ]
  },
  {
   "cell_type": "markdown",
   "id": "9dc58b58",
   "metadata": {},
   "source": [
    "**Задача 20**  \n",
    "Выгрузите данные активности пользователя, который опубликовал больше всего постов за всё время. Выведите данные за октябрь 2008 года в таком виде:\n",
    "* номер недели;\n",
    "* дата и время последнего поста, опубликованного на этой неделе."
   ]
  },
  {
   "cell_type": "markdown",
   "id": "559575c9",
   "metadata": {},
   "source": [
    "```sql\n",
    "WITH WEEK AS\n",
    "  (SELECT EXTRACT(WEEK\n",
    "                  FROM creation_date) AS week_number,\n",
    "          MAX(creation_date) OVER (\n",
    "                                   ORDER BY EXTRACT(WEEK\n",
    "                                                    FROM creation_date))\n",
    "   FROM stackoverflow.posts\n",
    "   WHERE user_id =\n",
    "       (SELECT user_id\n",
    "        FROM stackoverflow.posts\n",
    "        GROUP BY user_id\n",
    "        ORDER BY COUNT(id) DESC\n",
    "        LIMIT 1)\n",
    "     AND creation_date :: date BETWEEN '2008-10-01' AND '2008-10-31'\n",
    "   ORDER BY creation_date)\n",
    "SELECT DISTINCT *\n",
    "FROM WEEK\n",
    "ORDER BY week_number;\n",
    "```"
   ]
  },
  {
   "cell_type": "markdown",
   "id": "09f2c800",
   "metadata": {},
   "source": [
    "---"
   ]
  }
 ],
 "metadata": {
  "kernelspec": {
   "display_name": "Python 3 (ipykernel)",
   "language": "python",
   "name": "python3"
  },
  "language_info": {
   "codemirror_mode": {
    "name": "ipython",
    "version": 3
   },
   "file_extension": ".py",
   "mimetype": "text/x-python",
   "name": "python",
   "nbconvert_exporter": "python",
   "pygments_lexer": "ipython3",
   "version": "3.11.5"
  },
  "toc": {
   "base_numbering": 1,
   "nav_menu": {},
   "number_sections": false,
   "sideBar": true,
   "skip_h1_title": true,
   "title_cell": "Table of Contents",
   "title_sidebar": "Contents",
   "toc_cell": false,
   "toc_position": {
    "height": "calc(100% - 180px)",
    "left": "10px",
    "top": "150px",
    "width": "393px"
   },
   "toc_section_display": true,
   "toc_window_display": false
  }
 },
 "nbformat": 4,
 "nbformat_minor": 5
}
